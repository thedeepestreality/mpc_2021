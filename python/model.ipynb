{
 "cells": [
  {
   "cell_type": "code",
   "execution_count": 1,
   "id": "useful-fisher",
   "metadata": {},
   "outputs": [],
   "source": [
    "import numpy as np\n",
    "import math\n",
    "from scipy.integrate import odeint\n",
    "import matplotlib.pyplot as plt\n",
    "%matplotlib inline "
   ]
  },
  {
   "cell_type": "markdown",
   "id": "victorian-shakespeare",
   "metadata": {},
   "source": [
    "Здесь мы импортировали "
   ]
  },
  {
   "cell_type": "code",
   "execution_count": 21,
   "id": "better-jenny",
   "metadata": {},
   "outputs": [
    {
     "data": {
      "image/png": "[encoded data removed]",
      "text/plain": [
       "<Figure size 432x288 with 1 Axes>"
      ]
     },
     "metadata": {
      "needs_background": "light"
     },
     "output_type": "display_data"
    }
   ],
   "source": [
    "class Model:\n",
    "    a = 0.5\n",
    "    b = 0.1\n",
    "    kp = -12\n",
    "    ki = -4\n",
    "    x0 = 1\n",
    "    xd = 0.5\n",
    "    dt = 0.1\n",
    "    tt = np.array([0, dt])\n",
    "    T = 20\n",
    "    TT = np.arange(0,T+dt,dt)\n",
    "    u0 = 0\n",
    "    xx = np.array([x0])\n",
    "    ei = 0\n",
    "\n",
    "    def du(in_,t,ep):\n",
    "        return ep\n",
    "\n",
    "    def ctrl(self,x):\n",
    "        ep = x-self.xd\n",
    "        self.ei = odeint(Model.du,self.ei,self.tt,args=(ep,))[-1]\n",
    "        u = self.kp*ep + self.ki*self.ei\n",
    "        return u\n",
    "\n",
    "    def rp(in_,t,u,a,b):\n",
    "        x = in_\n",
    "        dx = a*x + b*u\n",
    "        return dx\n",
    "\n",
    "    def state(self,u,x0):\n",
    "        x = odeint(Model.rp,x0,self.tt,args=(u,self.a,self.b))[-1]\n",
    "        return x\n",
    "\n",
    "    def step(self,x0,u0):\n",
    "        u = self.ctrl(x0)\n",
    "        x = self.state(u,x0)\n",
    "        return (x,u)\n",
    "\n",
    "    def main_cycle(self):\n",
    "        x = self.x0\n",
    "        u = self.u0\n",
    "        for t in self.TT[1:]:\n",
    "            (x,u) = self.step(x,u)\n",
    "            self.xx = np.concatenate((self.xx,x))\n",
    "\n",
    "    def __init__(self):\n",
    "        pass\n",
    "\n",
    "m = Model()\n",
    "m.main_cycle()\n",
    "plt.plot(m.TT,m.xx)\n",
    "plt.grid()"
   ]
  },
  {
   "cell_type": "code",
   "execution_count": null,
   "id": "recovered-showcase",
   "metadata": {},
   "outputs": [],
   "source": []
  }
 ],
 "metadata": {
  "kernelspec": {
   "display_name": "Python 3",
   "language": "python",
   "name": "python3"
  },
  "language_info": {
   "codemirror_mode": {
    "name": "ipython",
    "version": 3
   },
   "file_extension": ".py",
   "mimetype": "text/x-python",
   "name": "python",
   "nbconvert_exporter": "python",
   "pygments_lexer": "ipython3",
   "version": "3.8.5"
  }
 },
 "nbformat": 4,
 "nbformat_minor": 5
}
