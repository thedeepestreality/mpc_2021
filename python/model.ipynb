{
 "cells": [
  {
   "cell_type": "code",
   "execution_count": 3,
   "id": "useful-fisher",
   "metadata": {},
   "outputs": [],
   "source": [
    "import numpy as np\n",
    "import math\n",
    "from scipy.integrate import odeint\n",
    "import matplotlib.pyplot as plt\n",
    "%matplotlib inline "
   ]
  },
  {
   "cell_type": "markdown",
   "id": "victorian-shakespeare",
   "metadata": {},
   "source": [
    "Здесь мы импортировали "
   ]
  },
  {
   "cell_type": "code",
   "execution_count": null,
   "id": "better-jenny",
   "metadata": {},
   "outputs": [],
   "source": [
    "a = 0.5\n",
    "b = 0.1\n",
    "kp = -12\n",
    "ki = -4\n",
    "x0 = 1\n",
    "xd = 0.5\n",
    "dt = 0.5\n",
    "tt = np.array([0, dt])\n",
    "T = 20\n",
    "TT = np.arange(0,T+dt,dt)\n",
    "u0 = 0\n",
    "# logs = dict({\"XX\":np.array([x0])})\n",
    "xx = np.array([x0])\n",
    "\n",
    "def du(in_,t):\n",
    "    ep = in_\n",
    "    return ep\n",
    "\n",
    "def ctrl(x,u0):\n",
    "    ep = x-xd\n",
    "    ei = odeint(du,u0,tt)\n",
    "    ei = ei[-1]\n",
    "    u = kp*ep + ki*ei\n",
    "    return u\n",
    "\n",
    "def rp(in_,t,u):\n",
    "    x = in_\n",
    "    dx = a*x + b*u\n",
    "    return dx\n",
    "\n",
    "def state(u,x0):\n",
    "    x = odeint(rp,x0,tt,args=(u,))\n",
    "    x = x[-1]\n",
    "    return x\n",
    "\n",
    "def step(x0,u0):\n",
    "    x = state(x0,u0)\n",
    "    u = ctrl(x,u0)\n",
    "    return (x,u)\n",
    "\n",
    "def main_cycle():\n",
    "    global xx\n",
    "    x = x0\n",
    "    u = u0\n",
    "    for t in TT[1:]:\n",
    "        (x,u) = step(x,u)\n",
    "        xx = np.concatenate((xx,x))\n",
    "\n",
    "main_cycle()\n",
    "# print(xx)\n",
    "plt.plot(TT,xx)\n",
    "plt.grid()"
   ]
  }
 ],
 "metadata": {
  "kernelspec": {
   "display_name": "Python 3",
   "language": "python",
   "name": "python3"
  },
  "language_info": {
   "codemirror_mode": {
    "name": "ipython",
    "version": 3
   },
   "file_extension": ".py",
   "mimetype": "text/x-python",
   "name": "python",
   "nbconvert_exporter": "python",
   "pygments_lexer": "ipython3",
   "version": "3.8.5"
  }
 },
 "nbformat": 4,
 "nbformat_minor": 5
}
