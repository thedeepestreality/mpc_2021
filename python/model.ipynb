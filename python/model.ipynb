{
 "cells": [
  {
   "cell_type": "code",
   "execution_count": 1,
   "id": "useful-fisher",
   "metadata": {},
   "outputs": [],
   "source": [
    "import numpy as np\n",
    "import math\n",
    "from scipy.integrate import odeint\n",
    "import matplotlib.pyplot as plt\n",
    "import control\n",
    "import control.matlab\n",
    "%matplotlib inline "
   ]
  },
  {
   "cell_type": "markdown",
   "id": "victorian-shakespeare",
   "metadata": {},
   "source": [
    "Здесь мы импортировали "
   ]
  },
  {
   "cell_type": "code",
   "execution_count": 17,
   "id": "better-jenny",
   "metadata": {},
   "outputs": [
    {
     "name": "stderr",
     "output_type": "stream",
     "text": [
      "<ipython-input-17-e98789521827>:55: VisibleDeprecationWarning: Creating an ndarray from ragged nested sequences (which is a list-or-tuple of lists-or-tuples-or ndarrays with different lengths or shapes) is deprecated. If you meant to do this, you must specify 'dtype=object' when creating the ndarray.\n",
      "  tau = np.array([u,0])\n"
     ]
    },
    {
     "name": "stdout",
     "output_type": "stream",
     "text": [
      "kplace: [[301.88634359 282.30267013 139.79832777  78.09916389]]\n",
      "place eig: [-8. -6. -4. -2.]\n",
      "klqr: [[190.50163723 190.45068305  88.8522519   51.17213021]]\n",
      "lqr eig: [-8.21307115 -4.08241293 -2.30869766 -2.48782679]\n"
     ]
    },
    {
     "data": {
      "image/png": "[encoded data removed]",
      "text/plain": [
       "<Figure size 432x288 with 4 Axes>"
      ]
     },
     "metadata": {
      "needs_background": "light"
     },
     "output_type": "display_data"
    },
    {
     "data": {
      "image/png": "[encoded data removed]",
      "text/plain": [
       "<Figure size 432x288 with 1 Axes>"
      ]
     },
     "metadata": {
      "needs_background": "light"
     },
     "output_type": "display_data"
    }
   ],
   "source": [
    "class Model:\n",
    "\n",
    "    kp = np.array([60, 75, 30, 20])\n",
    "    ki = np.array([0,0,0,0])\n",
    "    x0 = np.array([math.pi,1*math.pi/180,0,0])\n",
    "    xd = np.array([math.pi,0,0,0])\n",
    "    dt = 0.1\n",
    "    tt = np.array([0, dt])\n",
    "    T = 10\n",
    "    TT = np.arange(0,T+dt,dt)\n",
    "    u0 = 0\n",
    "    xx = np.array(x0)\n",
    "    uu = np.array([0])\n",
    "    ei = np.array([0,0,0,0])\n",
    "    kplace = []\n",
    "    klqr = []\n",
    "    kdlqr = np.array([109.0628, 118.649, 51.8250, 30.9129])\n",
    "\n",
    "    def du(in_,t,ep):\n",
    "        return ep\n",
    "    \n",
    "    def place(self, x):\n",
    "        ep = x-self.xd\n",
    "        u = self.kplace @ ep\n",
    "        return u[0,0]\n",
    "    \n",
    "    def lqr(self, x):\n",
    "        ep = x-self.xd\n",
    "        u = self.klqr @ ep\n",
    "        return u[0,0]\n",
    "    \n",
    "    def dlqr(self, x):\n",
    "        ep = x-self.xd\n",
    "        u = self.kdlqr @ ep\n",
    "        return u\n",
    "    \n",
    "    def pid(self, x):\n",
    "        ep = x-self.xd\n",
    "        self.ei = odeint(Model.du,self.ei,self.tt,args=(ep,))[-1]\n",
    "        u = self.kp @ ep + self.ki @ self.ei\n",
    "        return u\n",
    "\n",
    "    def ctrl(self,x):\n",
    "        return self.dlqr(x)\n",
    "\n",
    "    def rp(in_,t,u):\n",
    "        x = in_\n",
    "        \n",
    "        th1 = x[0]\n",
    "        th2 = x[1]\n",
    "        dth1 = x[2]\n",
    "        dth2 = x[3]\n",
    "        w = np.array([dth1,dth2])\n",
    "        \n",
    "        tau = np.array([u,0])\n",
    "        m1 = 1\n",
    "        m2 = 1\n",
    "        L1 = 1\n",
    "        L2 = 1\n",
    "        g = 9.8\n",
    "        f = np.array([0.6,0.6])\n",
    "\n",
    "        D = np.array([[(m1+m2)*L1*L1+m2*L2*L2+2*m2*L1*L2*math.cos(th2), m2*L2*L2+m2*L1*L2*math.cos(th2)],\n",
    "                     [m2*L2*L2+m2*L1*L2*math.cos(th2), m2*L2*L2]])\n",
    "\n",
    "        C = np.array([-m2*L1*L2*math.sin(th2)*dth2*(2*dth1+dth2),\n",
    "             m2*L1*L2*math.sin(th2)*dth1*dth1])\n",
    "\n",
    "        g = np.array([(m1+m2)*g*L1*math.sin(th1)+m2*g*L2*math.sin(th1+th2),\n",
    "            m2*g*L2*math.sin(th1+th2)])\n",
    "\n",
    "        expr1 = tau - C - g - f*w\n",
    "        ddth = np.linalg.inv(D) @ expr1\n",
    "        dx = np.concatenate((w,\n",
    "              ddth))\n",
    "        \n",
    "        return dx\n",
    "    \n",
    "    # for linearization\n",
    "    def rhs(t, x, u, params):\n",
    "        return Model.rp(x, t, u)\n",
    "\n",
    "    def state(self,u,x0):\n",
    "        x = odeint(Model.rp,x0,self.tt,args=(u,))[-1,:]\n",
    "        return x\n",
    "\n",
    "    def step(self,x0,u0):\n",
    "        u = self.ctrl(x0)\n",
    "        x = self.state(u,x0)\n",
    "        return (x,u)\n",
    "\n",
    "    def main_cycle(self):\n",
    "        x = self.x0\n",
    "        u = self.u0\n",
    "        for t in self.TT[1:]:\n",
    "            (x,u) = self.step(x,u)\n",
    "            self.xx = np.vstack((self.xx,x))\n",
    "            self.uu = np.vstack((self.uu,u))\n",
    "            \n",
    "    def linearize(self):\n",
    "        #_rhs(t, x, u, params)\n",
    "        #_out(t, x, u, params)\n",
    "        two_link = control.NonlinearIOSystem(Model.rhs, inputs = 1)\n",
    "        ss_sys = control.iosys.linearize(sys = two_link, xeq = self.xd, ueq = 0)\n",
    "        A = ss_sys.A\n",
    "        B = ss_sys.B\n",
    "#         print(f\"A: {A}\")\n",
    "#         print(f\"B: {B}\")\n",
    "        p = 2*np.array([-1,-2,-3,-4])\n",
    "        self.kplace = -control.matlab.place(A,B,p)\n",
    "        print(f\"kplace: {self.kplace}\")\n",
    "        w,v = np.linalg.eig(A + B @ self.kplace)\n",
    "        print(f\"place eig: {w}\")\n",
    "        \n",
    "        Q = np.diag(np.array([1, 1, 1, 1]))\n",
    "        R = 1\n",
    "        self.klqr,S,E = control.lqr(A,B,Q,R)\n",
    "        self.klqr = -self.klqr\n",
    "        print(f\"klqr: {self.klqr}\")\n",
    "        w,v = np.linalg.eig(A + B @ self.klqr)\n",
    "        print(f\"lqr eig: {w}\")     \n",
    "        \n",
    "    def __init__(self):\n",
    "        self.linearize()\n",
    "        pass\n",
    "\n",
    "m = Model()\n",
    "m.main_cycle()\n",
    "m.xx *= 180/math.pi\n",
    "\n",
    "plt.figure(1)\n",
    "plt.subplot(2,2,1)\n",
    "plt.plot(m.TT,m.xx[:,0],label='th1')\n",
    "plt.legend()\n",
    "plt.grid()\n",
    "\n",
    "plt.subplot(2,2,3)\n",
    "plt.plot(m.TT,m.xx[:,1],label='th2')\n",
    "plt.legend()\n",
    "plt.grid()\n",
    "\n",
    "plt.subplot(2,2,2)\n",
    "plt.plot(m.TT,m.xx[:,2],label='dth1')\n",
    "plt.legend()\n",
    "plt.grid()\n",
    "\n",
    "plt.subplot(2,2,4)\n",
    "plt.plot(m.TT,m.xx[:,3],label='dth2')\n",
    "plt.legend()\n",
    "plt.grid()\n",
    "\n",
    "plt.figure(2)\n",
    "plt.plot(m.TT,m.uu,label='ctrl')\n",
    "plt.legend()\n",
    "plt.grid()\n",
    "\n"
   ]
  }
 ],
 "metadata": {
  "kernelspec": {
   "display_name": "Python 3",
   "language": "python",
   "name": "python3"
  },
  "language_info": {
   "codemirror_mode": {
    "name": "ipython",
    "version": 3
   },
   "file_extension": ".py",
   "mimetype": "text/x-python",
   "name": "python",
   "nbconvert_exporter": "python",
   "pygments_lexer": "ipython3",
   "version": "3.8.5"
  }
 },
 "nbformat": 4,
 "nbformat_minor": 5
}
